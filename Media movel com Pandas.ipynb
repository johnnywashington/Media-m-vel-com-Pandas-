{
 "cells": [
  {
   "cell_type": "markdown",
   "id": "6fb969a1",
   "metadata": {},
   "source": [
    "# Média movel com Pandas"
   ]
  },
  {
   "cell_type": "code",
   "execution_count": 8,
   "id": "3c23d7f2",
   "metadata": {},
   "outputs": [
    {
     "name": "stdout",
     "output_type": "stream",
     "text": [
      "Requirement already satisfied: yfinance in c:\\users\\carol\\anaconda3\\lib\\site-packages (0.2.37)\n",
      "Requirement already satisfied: pandas>=1.3.0 in c:\\users\\carol\\anaconda3\\lib\\site-packages (from yfinance) (2.0.3)\n",
      "Requirement already satisfied: numpy>=1.16.5 in c:\\users\\carol\\anaconda3\\lib\\site-packages (from yfinance) (1.24.3)\n",
      "Requirement already satisfied: requests>=2.31 in c:\\users\\carol\\anaconda3\\lib\\site-packages (from yfinance) (2.31.0)\n",
      "Requirement already satisfied: multitasking>=0.0.7 in c:\\users\\carol\\anaconda3\\lib\\site-packages (from yfinance) (0.0.11)\n",
      "Requirement already satisfied: lxml>=4.9.1 in c:\\users\\carol\\anaconda3\\lib\\site-packages (from yfinance) (4.9.3)\n",
      "Requirement already satisfied: appdirs>=1.4.4 in c:\\users\\carol\\anaconda3\\lib\\site-packages (from yfinance) (1.4.4)\n",
      "Requirement already satisfied: pytz>=2022.5 in c:\\users\\carol\\anaconda3\\lib\\site-packages (from yfinance) (2023.3.post1)\n",
      "Requirement already satisfied: frozendict>=2.3.4 in c:\\users\\carol\\anaconda3\\lib\\site-packages (from yfinance) (2.4.0)\n",
      "Requirement already satisfied: peewee>=3.16.2 in c:\\users\\carol\\anaconda3\\lib\\site-packages (from yfinance) (3.17.1)\n",
      "Requirement already satisfied: beautifulsoup4>=4.11.1 in c:\\users\\carol\\anaconda3\\lib\\site-packages (from yfinance) (4.12.2)\n",
      "Requirement already satisfied: html5lib>=1.1 in c:\\users\\carol\\anaconda3\\lib\\site-packages (from yfinance) (1.1)\n",
      "Requirement already satisfied: soupsieve>1.2 in c:\\users\\carol\\anaconda3\\lib\\site-packages (from beautifulsoup4>=4.11.1->yfinance) (2.4)\n",
      "Requirement already satisfied: six>=1.9 in c:\\users\\carol\\anaconda3\\lib\\site-packages (from html5lib>=1.1->yfinance) (1.16.0)\n",
      "Requirement already satisfied: webencodings in c:\\users\\carol\\anaconda3\\lib\\site-packages (from html5lib>=1.1->yfinance) (0.5.1)\n",
      "Requirement already satisfied: python-dateutil>=2.8.2 in c:\\users\\carol\\anaconda3\\lib\\site-packages (from pandas>=1.3.0->yfinance) (2.8.2)\n",
      "Requirement already satisfied: tzdata>=2022.1 in c:\\users\\carol\\anaconda3\\lib\\site-packages (from pandas>=1.3.0->yfinance) (2023.3)\n",
      "Requirement already satisfied: charset-normalizer<4,>=2 in c:\\users\\carol\\anaconda3\\lib\\site-packages (from requests>=2.31->yfinance) (2.0.4)\n",
      "Requirement already satisfied: idna<4,>=2.5 in c:\\users\\carol\\anaconda3\\lib\\site-packages (from requests>=2.31->yfinance) (3.4)\n",
      "Requirement already satisfied: urllib3<3,>=1.21.1 in c:\\users\\carol\\anaconda3\\lib\\site-packages (from requests>=2.31->yfinance) (1.26.16)\n",
      "Requirement already satisfied: certifi>=2017.4.17 in c:\\users\\carol\\anaconda3\\lib\\site-packages (from requests>=2.31->yfinance) (2024.2.2)\n"
     ]
    }
   ],
   "source": [
    "!pip install yfinance"
   ]
  },
  {
   "cell_type": "code",
   "execution_count": 5,
   "id": "0966ea52",
   "metadata": {},
   "outputs": [],
   "source": [
    "import pandas as pd\n",
    "import yfinance as yf"
   ]
  },
  {
   "cell_type": "code",
   "execution_count": 15,
   "id": "fc747720",
   "metadata": {},
   "outputs": [
    {
     "name": "stderr",
     "output_type": "stream",
     "text": [
      "[*********************100%%**********************]  1 of 1 completed\n"
     ]
    },
    {
     "data": {
      "text/html": [
       "<div>\n",
       "<style scoped>\n",
       "    .dataframe tbody tr th:only-of-type {\n",
       "        vertical-align: middle;\n",
       "    }\n",
       "\n",
       "    .dataframe tbody tr th {\n",
       "        vertical-align: top;\n",
       "    }\n",
       "\n",
       "    .dataframe thead th {\n",
       "        text-align: right;\n",
       "    }\n",
       "</style>\n",
       "<table border=\"1\" class=\"dataframe\">\n",
       "  <thead>\n",
       "    <tr style=\"text-align: right;\">\n",
       "      <th></th>\n",
       "      <th>Open</th>\n",
       "      <th>High</th>\n",
       "      <th>Low</th>\n",
       "      <th>Close</th>\n",
       "      <th>Adj Close</th>\n",
       "      <th>Volume</th>\n",
       "    </tr>\n",
       "    <tr>\n",
       "      <th>Date</th>\n",
       "      <th></th>\n",
       "      <th></th>\n",
       "      <th></th>\n",
       "      <th></th>\n",
       "      <th></th>\n",
       "      <th></th>\n",
       "    </tr>\n",
       "  </thead>\n",
       "  <tbody>\n",
       "    <tr>\n",
       "      <th>2018-01-02</th>\n",
       "      <td>28.533333</td>\n",
       "      <td>29.253332</td>\n",
       "      <td>28.533333</td>\n",
       "      <td>29.253332</td>\n",
       "      <td>21.739330</td>\n",
       "      <td>16650900</td>\n",
       "    </tr>\n",
       "    <tr>\n",
       "      <th>2018-01-03</th>\n",
       "      <td>29.266666</td>\n",
       "      <td>29.559999</td>\n",
       "      <td>29.046665</td>\n",
       "      <td>29.453333</td>\n",
       "      <td>21.887960</td>\n",
       "      <td>22295700</td>\n",
       "    </tr>\n",
       "    <tr>\n",
       "      <th>2018-01-04</th>\n",
       "      <td>29.500000</td>\n",
       "      <td>30.200001</td>\n",
       "      <td>29.500000</td>\n",
       "      <td>30.066666</td>\n",
       "      <td>22.343748</td>\n",
       "      <td>23222550</td>\n",
       "    </tr>\n",
       "    <tr>\n",
       "      <th>2018-01-05</th>\n",
       "      <td>30.080000</td>\n",
       "      <td>30.213333</td>\n",
       "      <td>29.733334</td>\n",
       "      <td>30.153334</td>\n",
       "      <td>22.408157</td>\n",
       "      <td>15717450</td>\n",
       "    </tr>\n",
       "    <tr>\n",
       "      <th>2018-01-08</th>\n",
       "      <td>30.040001</td>\n",
       "      <td>30.213333</td>\n",
       "      <td>29.853333</td>\n",
       "      <td>30.053333</td>\n",
       "      <td>22.333849</td>\n",
       "      <td>12708150</td>\n",
       "    </tr>\n",
       "    <tr>\n",
       "      <th>...</th>\n",
       "      <td>...</td>\n",
       "      <td>...</td>\n",
       "      <td>...</td>\n",
       "      <td>...</td>\n",
       "      <td>...</td>\n",
       "      <td>...</td>\n",
       "    </tr>\n",
       "    <tr>\n",
       "      <th>2024-03-19</th>\n",
       "      <td>34.759998</td>\n",
       "      <td>34.849998</td>\n",
       "      <td>34.639999</td>\n",
       "      <td>34.730000</td>\n",
       "      <td>34.486164</td>\n",
       "      <td>10533300</td>\n",
       "    </tr>\n",
       "    <tr>\n",
       "      <th>2024-03-20</th>\n",
       "      <td>34.730000</td>\n",
       "      <td>35.000000</td>\n",
       "      <td>34.560001</td>\n",
       "      <td>34.799999</td>\n",
       "      <td>34.555672</td>\n",
       "      <td>17439700</td>\n",
       "    </tr>\n",
       "    <tr>\n",
       "      <th>2024-03-21</th>\n",
       "      <td>34.799999</td>\n",
       "      <td>34.930000</td>\n",
       "      <td>34.270000</td>\n",
       "      <td>34.439999</td>\n",
       "      <td>34.198200</td>\n",
       "      <td>33569600</td>\n",
       "    </tr>\n",
       "    <tr>\n",
       "      <th>2024-03-22</th>\n",
       "      <td>34.099998</td>\n",
       "      <td>34.200001</td>\n",
       "      <td>33.610001</td>\n",
       "      <td>33.720001</td>\n",
       "      <td>33.720001</td>\n",
       "      <td>11601800</td>\n",
       "    </tr>\n",
       "    <tr>\n",
       "      <th>2024-03-25</th>\n",
       "      <td>33.639999</td>\n",
       "      <td>33.740002</td>\n",
       "      <td>33.549999</td>\n",
       "      <td>33.720001</td>\n",
       "      <td>33.720001</td>\n",
       "      <td>12219500</td>\n",
       "    </tr>\n",
       "  </tbody>\n",
       "</table>\n",
       "<p>1545 rows × 6 columns</p>\n",
       "</div>"
      ],
      "text/plain": [
       "                 Open       High        Low      Close  Adj Close    Volume\n",
       "Date                                                                       \n",
       "2018-01-02  28.533333  29.253332  28.533333  29.253332  21.739330  16650900\n",
       "2018-01-03  29.266666  29.559999  29.046665  29.453333  21.887960  22295700\n",
       "2018-01-04  29.500000  30.200001  29.500000  30.066666  22.343748  23222550\n",
       "2018-01-05  30.080000  30.213333  29.733334  30.153334  22.408157  15717450\n",
       "2018-01-08  30.040001  30.213333  29.853333  30.053333  22.333849  12708150\n",
       "...               ...        ...        ...        ...        ...       ...\n",
       "2024-03-19  34.759998  34.849998  34.639999  34.730000  34.486164  10533300\n",
       "2024-03-20  34.730000  35.000000  34.560001  34.799999  34.555672  17439700\n",
       "2024-03-21  34.799999  34.930000  34.270000  34.439999  34.198200  33569600\n",
       "2024-03-22  34.099998  34.200001  33.610001  33.720001  33.720001  11601800\n",
       "2024-03-25  33.639999  33.740002  33.549999  33.720001  33.720001  12219500\n",
       "\n",
       "[1545 rows x 6 columns]"
      ]
     },
     "execution_count": 15,
     "metadata": {},
     "output_type": "execute_result"
    }
   ],
   "source": [
    "dados_empresas = yf.download('ITUB4.SA', start = '2018-01-01', end = '2024-03-26')\n",
    "dados_empresas"
   ]
  },
  {
   "cell_type": "code",
   "execution_count": 19,
   "id": "8329cd16",
   "metadata": {},
   "outputs": [
    {
     "data": {
      "text/plain": [
       "Date\n",
       "2018-01-03    0.006837\n",
       "2018-01-04    0.020824\n",
       "2018-01-05    0.002883\n",
       "2018-01-08   -0.003316\n",
       "2018-01-09   -0.010871\n",
       "                ...   \n",
       "2024-03-19    0.001442\n",
       "2024-03-20    0.002016\n",
       "2024-03-21   -0.010345\n",
       "2024-03-22   -0.013983\n",
       "2024-03-25    0.000000\n",
       "Name: Adj Close, Length: 1544, dtype: float64"
      ]
     },
     "execution_count": 19,
     "metadata": {},
     "output_type": "execute_result"
    }
   ],
   "source": [
    "cotacoes_ajustadas = dados_empresas['Adj Close']\n",
    "\n",
    "retornos_diarios = cotacoes_ajustadas.pct_change().dropna()\n",
    "\n",
    "retorno_5_dias = cotacoes_ajustadas.pct_change(periods = 5).dropna()\n",
    "\n",
    "retornos_diarios"
   ]
  },
  {
   "cell_type": "code",
   "execution_count": 21,
   "id": "68af70d3",
   "metadata": {},
   "outputs": [
    {
     "data": {
      "text/plain": [
       "Date\n",
       "2018-07-31   -0.101241\n",
       "2018-08-31   -0.146964\n",
       "2018-09-30   -0.125519\n",
       "2018-10-31   -0.018276\n",
       "2018-11-30    0.278239\n",
       "                ...   \n",
       "2023-11-30    0.227575\n",
       "2023-12-31    0.221213\n",
       "2024-01-31    0.169262\n",
       "2024-02-29    0.305339\n",
       "2024-03-31    0.303557\n",
       "Freq: M, Name: Adj Close, Length: 69, dtype: float64"
      ]
     },
     "execution_count": 21,
     "metadata": {},
     "output_type": "execute_result"
    }
   ],
   "source": [
    "cotacoes_ajustadas \n",
    "\n",
    "cotacoes_mensais = cotacoes_ajustadas.resample('M').last()\n",
    "\n",
    "r1 = cotacoes_mensais.pct_change().dropna()\n",
    "\n",
    "r6 = cotacoes_mensais.pct_change(periods = 6).dropna()\n",
    "\n",
    "r6"
   ]
  },
  {
   "cell_type": "code",
   "execution_count": 26,
   "id": "ad89f46e",
   "metadata": {},
   "outputs": [
    {
     "data": {
      "text/html": [
       "<div>\n",
       "<style scoped>\n",
       "    .dataframe tbody tr th:only-of-type {\n",
       "        vertical-align: middle;\n",
       "    }\n",
       "\n",
       "    .dataframe tbody tr th {\n",
       "        vertical-align: top;\n",
       "    }\n",
       "\n",
       "    .dataframe thead th {\n",
       "        text-align: right;\n",
       "    }\n",
       "</style>\n",
       "<table border=\"1\" class=\"dataframe\">\n",
       "  <thead>\n",
       "    <tr style=\"text-align: right;\">\n",
       "      <th></th>\n",
       "      <th>cotacoes_itb</th>\n",
       "      <th>media_movel_devagar</th>\n",
       "      <th>media_movel_rapida</th>\n",
       "    </tr>\n",
       "    <tr>\n",
       "      <th>Date</th>\n",
       "      <th></th>\n",
       "      <th></th>\n",
       "      <th></th>\n",
       "    </tr>\n",
       "  </thead>\n",
       "  <tbody>\n",
       "    <tr>\n",
       "      <th>2018-10-18</th>\n",
       "      <td>25.202190</td>\n",
       "      <td>23.929502</td>\n",
       "      <td>23.140434</td>\n",
       "    </tr>\n",
       "    <tr>\n",
       "      <th>2018-10-19</th>\n",
       "      <td>25.175924</td>\n",
       "      <td>23.946685</td>\n",
       "      <td>23.177367</td>\n",
       "    </tr>\n",
       "    <tr>\n",
       "      <th>2018-10-22</th>\n",
       "      <td>25.543623</td>\n",
       "      <td>23.964963</td>\n",
       "      <td>23.224137</td>\n",
       "    </tr>\n",
       "    <tr>\n",
       "      <th>2018-10-23</th>\n",
       "      <td>25.632914</td>\n",
       "      <td>23.981409</td>\n",
       "      <td>23.289556</td>\n",
       "    </tr>\n",
       "    <tr>\n",
       "      <th>2018-10-24</th>\n",
       "      <td>24.965826</td>\n",
       "      <td>23.994197</td>\n",
       "      <td>23.338116</td>\n",
       "    </tr>\n",
       "    <tr>\n",
       "      <th>...</th>\n",
       "      <td>...</td>\n",
       "      <td>...</td>\n",
       "      <td>...</td>\n",
       "    </tr>\n",
       "    <tr>\n",
       "      <th>2024-03-19</th>\n",
       "      <td>34.486164</td>\n",
       "      <td>28.656685</td>\n",
       "      <td>32.892914</td>\n",
       "    </tr>\n",
       "    <tr>\n",
       "      <th>2024-03-20</th>\n",
       "      <td>34.555672</td>\n",
       "      <td>28.706983</td>\n",
       "      <td>32.943584</td>\n",
       "    </tr>\n",
       "    <tr>\n",
       "      <th>2024-03-21</th>\n",
       "      <td>34.198200</td>\n",
       "      <td>28.753689</td>\n",
       "      <td>32.987489</td>\n",
       "    </tr>\n",
       "    <tr>\n",
       "      <th>2024-03-22</th>\n",
       "      <td>33.720001</td>\n",
       "      <td>28.796188</td>\n",
       "      <td>33.022406</td>\n",
       "    </tr>\n",
       "    <tr>\n",
       "      <th>2024-03-25</th>\n",
       "      <td>33.720001</td>\n",
       "      <td>28.838408</td>\n",
       "      <td>33.056171</td>\n",
       "    </tr>\n",
       "  </tbody>\n",
       "</table>\n",
       "<p>1346 rows × 3 columns</p>\n",
       "</div>"
      ],
      "text/plain": [
       "            cotacoes_itb  media_movel_devagar  media_movel_rapida\n",
       "Date                                                             \n",
       "2018-10-18     25.202190            23.929502           23.140434\n",
       "2018-10-19     25.175924            23.946685           23.177367\n",
       "2018-10-22     25.543623            23.964963           23.224137\n",
       "2018-10-23     25.632914            23.981409           23.289556\n",
       "2018-10-24     24.965826            23.994197           23.338116\n",
       "...                  ...                  ...                 ...\n",
       "2024-03-19     34.486164            28.656685           32.892914\n",
       "2024-03-20     34.555672            28.706983           32.943584\n",
       "2024-03-21     34.198200            28.753689           32.987489\n",
       "2024-03-22     33.720001            28.796188           33.022406\n",
       "2024-03-25     33.720001            28.838408           33.056171\n",
       "\n",
       "[1346 rows x 3 columns]"
      ]
     },
     "execution_count": 26,
     "metadata": {},
     "output_type": "execute_result"
    }
   ],
   "source": [
    "media_movel = pd.DataFrame(index = cotacoes_ajustadas.index)\n",
    "\n",
    "media_movel['cotacoes_itb'] = cotacoes_ajustadas.values\n",
    "\n",
    "media_movel['media_movel_devagar'] = media_movel['cotacoes_itb'].rolling(200).mean()\n",
    "\n",
    "media_movel['media_movel_rapida'] = media_movel['cotacoes_itb'].rolling(50).mean()\n",
    "\n",
    "media_movel = media_movel.dropna()\n",
    "\n",
    "media_movel\n"
   ]
  },
  {
   "cell_type": "code",
   "execution_count": 27,
   "id": "ac07d07e",
   "metadata": {},
   "outputs": [
    {
     "data": {
      "text/plain": [
       "<Axes: xlabel='Date'>"
      ]
     },
     "execution_count": 27,
     "metadata": {},
     "output_type": "execute_result"
    },
    {
     "data": {
      "image/png": "[encoded data removed]",
      "text/plain": [
       "<Figure size 640x480 with 1 Axes>"
      ]
     },
     "metadata": {},
     "output_type": "display_data"
    }
   ],
   "source": [
    "media_movel.plot()"
   ]
  },
  {
   "cell_type": "code",
   "execution_count": null,
   "id": "24338a75",
   "metadata": {},
   "outputs": [],
   "source": []
  }
 ],
 "metadata": {
  "kernelspec": {
   "display_name": "Python 3 (ipykernel)",
   "language": "python",
   "name": "python3"
  },
  "language_info": {
   "codemirror_mode": {
    "name": "ipython",
    "version": 3
   },
   "file_extension": ".py",
   "mimetype": "text/x-python",
   "name": "python",
   "nbconvert_exporter": "python",
   "pygments_lexer": "ipython3",
   "version": "3.11.5"
  }
 },
 "nbformat": 4,
 "nbformat_minor": 5
}
